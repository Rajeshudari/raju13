In [1]:
test_tup1 = ('GFG', 'is', 'best') 
test_tup2 = (1, 2, 3)  
print("The original key tuple is : " + str(test_tup1)) 
print("The original value tuple is : " + str(test_tup2)) 
res = {test_tup1[i] : test_tup2[i] for i, _ in enumerate(test_tup2)} 
print("Dictionary constructed from tuples : " + str(res))
The original key tuple is : ('GFG', 'is', 'best')
The original value tuple is : (1, 2, 3)
Dictionary constructed from tuples : {'GFG': 1, 'is': 2, 'best': 3}
