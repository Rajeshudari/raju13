In [5]:
def convert(list): 
    return tuple(list)  
lst = []
num = int(input('How many numbers: '))
for n in range(num):
    numbers = int(input('Enter number '))
    lst.append(numbers)
print(convert(list))
How many numbers: 4
Enter number 1
Enter number 2
Enter number 3
Enter number 4
(1, 2, 3, 4)
