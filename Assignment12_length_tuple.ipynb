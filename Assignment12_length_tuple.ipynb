In [1]:
tuple1 = (123, 'xyz', 'zara')
print ("First tuple length : ", len(tuple1))
First tuple length :  3
