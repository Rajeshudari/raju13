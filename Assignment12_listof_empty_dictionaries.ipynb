In [2]:
n = int(input("enter any number"))
l = [{} for _ in range(n)]
print(l)
enter any number6
[{}, {}, {}, {}, {}, {}]
